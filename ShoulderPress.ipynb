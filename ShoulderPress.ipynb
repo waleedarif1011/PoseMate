{
 "cells": [
  {
   "cell_type": "markdown",
   "id": "e43048e9",
   "metadata": {},
   "source": [
    "# Shoulder Press \n",
    "\n",
    "### Importing Libraries"
   ]
  },
  {
   "cell_type": "code",
   "execution_count": 2,
   "id": "5be503d8",
   "metadata": {},
   "outputs": [],
   "source": [
    "import cv2 as cv\n",
    "import mediapipe as mp\n",
    "import math"
   ]
  },
  {
   "cell_type": "markdown",
   "id": "ef166b33",
   "metadata": {},
   "source": [
    "### Angle calcultion using three 2d Coordinates"
   ]
  },
  {
   "cell_type": "code",
   "execution_count": 3,
   "id": "9f9faea2",
   "metadata": {},
   "outputs": [],
   "source": [
    "\n",
    "def calculate_angle(x1, y1, x2, y2, x3, y3):\n",
    "    delta_x1, delta_y1 = x1 - x2, y1 - y2\n",
    "    delta_x2, delta_y2 = x3 - x2, y3 - y2\n",
    "    angle_rad = math.atan2(delta_y2, delta_x2) - math.atan2(delta_y1, delta_x1)\n",
    "    angle_deg = math.degrees(angle_rad)\n",
    "    angle_deg = (angle_deg + 360) % 360\n",
    "    return angle_deg"
   ]
  },
  {
   "cell_type": "code",
   "execution_count": 8,
   "id": "8d91f1a5",
   "metadata": {},
   "outputs": [],
   "source": [
    "mp_pose = mp.solutions.pose\n",
    "pose = mp_pose.Pose()\n",
    "mp_drawing = mp.solutions.drawing_utils\n"
   ]
  },
  {
   "cell_type": "markdown",
   "id": "a76ec784",
   "metadata": {},
   "source": [
    "### Fucntion to detect the state of Shoulder Press (up or down)"
   ]
  },
  {
   "cell_type": "code",
   "execution_count": 9,
   "id": "6e40b454",
   "metadata": {},
   "outputs": [],
   "source": [
    "def detect_shoulder_press_state(frame, landmarks, initCheck, state, rep_count):\n",
    "\n",
    "    initial_position = (20, 150)\n",
    "    line_height = 30\n",
    "    y = initial_position[1]\n",
    "    \n",
    "    # Necessary Landmarks Detection  \n",
    "    nose = landmarks[mp_pose.PoseLandmark.NOSE.value]\n",
    "    left_shoulder = landmarks[mp_pose.PoseLandmark.LEFT_SHOULDER.value]\n",
    "    left_elbow = landmarks[mp_pose.PoseLandmark.LEFT_ELBOW.value]\n",
    "    left_wrist = landmarks[mp_pose.PoseLandmark.LEFT_WRIST.value]\n",
    "    left_hip = landmarks[mp_pose.PoseLandmark.LEFT_HIP.value]\n",
    "\n",
    "    right_shoulder = landmarks[mp_pose.PoseLandmark.RIGHT_SHOULDER.value]\n",
    "    right_elbow = landmarks[mp_pose.PoseLandmark.RIGHT_ELBOW.value]\n",
    "    right_wrist = landmarks[mp_pose.PoseLandmark.RIGHT_WRIST.value]\n",
    "    right_hip = landmarks[mp_pose.PoseLandmark.RIGHT_HIP.value]\n",
    "\n",
    "    # Calculating Angles\n",
    "    left_elbow_angle = calculate_angle(left_shoulder.x, left_shoulder.y,\n",
    "                                    left_elbow.x, left_elbow.y,\n",
    "                                    left_wrist.x, left_wrist.y)\n",
    "        \n",
    "    left_shoulder_angle = calculate_angle(left_elbow.x, left_elbow.y, \n",
    "                                    left_shoulder.x, left_shoulder.y,\n",
    "                                    left_hip.x, left_hip.y)\n",
    "\n",
    "    right_elbow_angle = calculate_angle(right_wrist.x, right_wrist.y,\n",
    "                                    right_elbow.x, right_elbow.y,\n",
    "                                    right_shoulder.x, right_shoulder.y)\n",
    "\n",
    "    \n",
    "    right_shoulder_angle = calculate_angle(right_hip.x, right_hip.y,\n",
    "                                     right_shoulder.x, right_shoulder.y,\n",
    "                                     right_elbow.x, right_elbow.y)\n",
    "    \n",
    "    if(initCheck == 1 and ((55 < left_elbow_angle > 75) and (55 < right_elbow_angle < 75) and (90 < left_shoulder_angle > 110 ) and (90 < right_shoulder_angle < 110) and ((left_wrist.y + 30) > nose.y and (right_wrist.y + 30) > nose.y))):\n",
    "        initCheck = 0\n",
    "        state == \"startway\"\n",
    "        cv.putText(frame, f\"Great you're in Initial position\", (10, 330), cv.FONT_HERSHEY_SIMPLEX, 0.5, (0, 0, 0), 0, cv.LINE_AA)\n",
    "    else:\n",
    "        text = \"Attain initial stage: Bend your elbows \\npointing directly under your wrists.\"\n",
    "        lines = text.split('\\n')\n",
    "\n",
    " \n",
    "        cv.rectangle(frame, (15, 105), (220, 150), (255, 255, 255), cv.FILLED)\n",
    "        # for line in lines:\n",
    "        #     cv.putText(frame, line, (initial_position[0], y), cv.FONT_HERSHEY_SIMPLEX, 0.7, (0, 0, 0), 1, cv.LINE_AA)\n",
    "        #     y += line_height\n",
    "\n",
    "    if initCheck == 0:\n",
    "\n",
    "        if (state == \"startway\") and (125 < (left_elbow_angle and right_elbow_angle) < 145) and (150 < (left_shoulder_angle and right_shoulder_angle) < 170) and ((left_elbow.y+40 > nose.y) and (right_elbow.y+40 > nose.y)):\n",
    "\n",
    "            state = \"endway\"\n",
    "            rep_count += 1\n",
    "            # cv.putText(frame, f\"Rep {rep_count} \", (100, 330), cv.FONT_HERSHEY_SIMPLEX, 1, (0, 255, 0), 2, cv.LINE_AA)\n",
    "\n",
    "        elif state == \"endway\" and (55 < (left_elbow_angle and right_elbow_angle) < 75) and (90 <(left_shoulder_angle and right_elbow_angle) < 110)((left_wrist.y+40 > nose.y) and (right_wrist.y+40 > nose.y)):\n",
    "            state = \"startway\"\n",
    "    \n",
    "    return frame, initCheck, state, rep_count, "
   ]
  },
  {
   "cell_type": "markdown",
   "id": "57e932bd",
   "metadata": {},
   "source": [
    "### Pose estimator"
   ]
  },
  {
   "cell_type": "code",
   "execution_count": 10,
   "id": "806ff7f3",
   "metadata": {},
   "outputs": [],
   "source": [
    "\n",
    "video_path = r\"demos/ShoulderPress/shoulderPressV\"\n",
    "cap = cv.VideoCapture(video_path)\n",
    "\n",
    "buffer_size = 5\n",
    "initCheck = 1\n",
    "frame_buffer = []\n",
    "\n",
    "frame_skip = 4 \n",
    "count = 0\n",
    "\n",
    "while cap.isOpened():\n",
    "    ret, frame = cap.read()\n",
    "\n",
    "    if not ret:\n",
    "        break\n",
    "\n",
    "    count += 1 \n",
    "    if count % frame_skip != 1:\n",
    "        continue\n",
    "\n",
    "    frame = cv.resize(frame, (640, 480))\n",
    "\n",
    "    # image_rgb = cv.cvtColor(frame, cv.COLOR_BGR2RGB)\n",
    "    frame = cv.rotate(frame, cv.ROTATE_90_CLOCKWISE)\n",
    "    results = pose.process(frame)\n",
    "\n",
    "    if results.pose_landmarks:\n",
    "        landmarks = results.pose_landmarks.landmark\n",
    "\n",
    "        if not frame_buffer:\n",
    "            state = \"startway\"\n",
    "            rep_count = 0\n",
    "        else:\n",
    "            state, rep_count = frame_buffer[-1] \n",
    "\n",
    "        frame, initCheck, state, rep_count = detect_shoulder_press_state(frame, landmarks, initCheck, state, rep_count)\n",
    "\n",
    "\n",
    "        mp_drawing.draw_landmarks(frame, results.pose_landmarks, mp_pose.POSE_CONNECTIONS,\n",
    "                                mp_drawing.DrawingSpec(color=(0,0,0), thickness=4, circle_radius=2), \n",
    "                                mp_drawing.DrawingSpec(color=(0, 0, 255), thickness=2, circle_radius=2) \n",
    "                                 )\n",
    "        cv.putText(frame, f\"CORRECT POSTURE\", (28, 135), cv.FONT_HERSHEY_SIMPLEX, 0.6, (0, 100, 0), 0, cv.LINE_AA)\n",
    "        \n",
    "        frame = cv.cvtColor(frame, cv.COLOR_BGR2RGB)\n",
    "        frame = cv.cvtColor(frame, cv.COLOR_BGR2RGB)\n",
    "        cv.imshow('Exercise Detection', frame)\n",
    "        cv.imwrite('Shoulder Press Correct.jpg', frame)\n",
    "\n",
    "        frame_buffer.append((state, rep_count))\n",
    "        if len(frame_buffer) > buffer_size:\n",
    "            frame_buffer.pop(0)\n",
    "\n",
    "        if cv.waitKey(0) & 0xFF == ord('q'):\n",
    "            break\n",
    "\n",
    "cap.release()\n",
    "cv.destroyAllWindows()"
   ]
  },
  {
   "cell_type": "code",
   "execution_count": null,
   "id": "07625c80",
   "metadata": {},
   "outputs": [],
   "source": []
  }
 ],
 "metadata": {
  "kernelspec": {
   "display_name": "Python 3 (ipykernel)",
   "language": "python",
   "name": "python3"
  },
  "language_info": {
   "codemirror_mode": {
    "name": "ipython",
    "version": 3
   },
   "file_extension": ".py",
   "mimetype": "text/x-python",
   "name": "python",
   "nbconvert_exporter": "python",
   "pygments_lexer": "ipython3",
   "version": "3.10.5"
  }
 },
 "nbformat": 4,
 "nbformat_minor": 5
}
